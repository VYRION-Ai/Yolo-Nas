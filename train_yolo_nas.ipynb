{
  "nbformat": 4,
  "nbformat_minor": 0,
  "metadata": {
    "colab": {
      "provenance": [],
      "gpuType": "T4"
    },
    "kernelspec": {
      "name": "python3",
      "display_name": "Python 3"
    },
    "language_info": {
      "name": "python"
    },
    "accelerator": "GPU",
    "gpuClass": "standard"
  },
  "cells": [
    {
      "cell_type": "code",
      "execution_count": null,
      "metadata": {
        "id": "EOsOsNC8H7Lt"
      },
      "outputs": [],
      "source": [
        "!pip install -q super-gradients==3.1.1\n",
        "!pip install onemetric\n",
        "!pip install -q supervision"
      ]
    },
    {
      "cell_type": "markdown",
      "source": [
        "### 🚨 **Restart the runtime**\n",
        "\n",
        "---\n",
        "\n",
        "\n",
        "\n",
        "**After installation is complete, you'll need to restart the runtime after installation completes. Navigate to `Runtime` -> `Restart runtime` and confirm by clicking `Yes` when you see the popup.**\n",
        "\n",
        "After that, carry on with the notebook starting from the cell below 👇"
      ],
      "metadata": {
        "id": "Q_SvUlB1IOfW"
      }
    },
    {
      "cell_type": "code",
      "source": [
        "!git clone https://github.com/VYRION-Ai/Yolo-Nas.git"
      ],
      "metadata": {
        "id": "S7Waw5dFH__W"
      },
      "execution_count": null,
      "outputs": []
    },
    {
      "cell_type": "code",
      "source": [
        "from google.colab import drive\n",
        "drive.mount('/content/drive')"
      ],
      "metadata": {
        "id": "c1uL5ZHOIKrs"
      },
      "execution_count": null,
      "outputs": []
    },
    {
      "cell_type": "code",
      "source": [
        "%cd /content/\n",
        "%cp /content/drive/MyDrive/Master/yolo_dataset.zip /content/\n",
        "!unzip  /content/yolo_dataset.zip\n",
        "!rm  /content/yolo_dataset.zip"
      ],
      "metadata": {
        "id": "s9wEAG3EILhf"
      },
      "execution_count": null,
      "outputs": []
    },
    {
      "cell_type": "code",
      "source": [
        "%cd /content/Yolo-Nas\n",
        "!python train.py --project \"Dataset\"  --data /content/Dataset/data.yaml --location '/content/Dataset' --model-arch yolo_nas_s --batch-size 32 --max-epochs 4 --checkpoint-dir /content/checkpoints\n"
      ],
      "metadata": {
        "id": "C6w5BXJqITuO"
      },
      "execution_count": null,
      "outputs": []
    },
    {
      "cell_type": "code",
      "source": [
        "%cd /content/Yolo-Nas\n",
        "!python valid.py  --data /content/Dataset/data.yaml --location '/content/Dataset' --project \"Dataset\" --weights /content/checkpoints/Dataset/ckpt_best.pth\n"
      ],
      "metadata": {
        "id": "exghRKAxqtKf"
      },
      "execution_count": null,
      "outputs": []
    }
  ]
}